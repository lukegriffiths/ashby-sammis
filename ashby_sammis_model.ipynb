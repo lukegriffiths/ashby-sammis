{
 "cells": [
  {
   "cell_type": "markdown",
   "metadata": {},
   "source": [
    "# The Ashby and Sammis (1990) 2D sliding wing crack model \n",
    "\n",
    "This model describes the evolution of damage with strain and from it a criteria for failure can be established\". It is often applied to the mechanical failure of rock.\n",
    "\n",
    "The input parameters are the initial crack damage parameter D0 of the rock, the minimum principal stress σ3, the friction coefficient μ along cracks, and KI/πc, which is the fracture toughness divided by π times the crack half-length. D0 is a function of the crack length, the crack orientation (45° here) with regards to the direction of the maximum principal stress σ1, and the crack surface density.\n",
    "\n",
    "Below I have provided an interactive chart which allows the user to plot the results from the Ashby and Sammis (1990) 2D sliding wing crack model and compare with their mechanical data. The graph shows the dependacy of axial stress on damage. The onset of dilatancy is where crack propagation begins. (This is also generally the stress at which an acceleration in the number acoustic emissions is observed.) As the maximum principal stress σ1 increases, cracks continue to propagate until they nucleate at the peak stress, or the failure stress.\n",
    "\n",
    "The input parameters may be inferred through fitting both the modelled peak stress and the stress at the onset of dilatancy to values provided by uniaxial and triaxial mechanical tests. Inferred parameters for various rocks are given in Baud et al. (2014).\n",
    "\n",
    "Things to watch out for: \n",
    "\n",
    "* There is a trade-off between the friction coefficient μ and the KI/πc constant for uniaxial tests.\n",
    "\n",
    "* Avoid high values of D0 where the curve has no peak: for the model, the rock is \"already broken\".\n"
   ]
  },
  {
   "cell_type": "code",
   "execution_count": 3,
   "metadata": {},
   "outputs": [
    {
     "data": {
      "text/html": [
       "\n",
       "    <div class=\"bk-root\">\n",
       "        <a href=\"https://bokeh.pydata.org\" target=\"_blank\" class=\"bk-logo bk-logo-small bk-logo-notebook\"></a>\n",
       "        <span id=\"1003\">Loading BokehJS ...</span>\n",
       "    </div>"
      ],
      "text/plain": [
       "\n",
       "    <div class=\"bk-root\">\n",
       "        <a href=\"https://bokeh.pydata.org\" target=\"_blank\" class=\"bk-logo bk-logo-small bk-logo-notebook\"></a>\n",
       "        <span id=\"1003\">Loading BokehJS ...</span>\n",
       "    </div>"
      ]
     },
     "execution_count": 0,
     "metadata": {},
     "output_type": "execute_result"
    },
    {
     "data": {
      "text/html": [
       "\n",
       "    <div class=\"bk-root\">\n",
       "        <a href=\"https://bokeh.pydata.org\" target=\"_blank\" class=\"bk-logo bk-logo-small bk-logo-notebook\"></a>\n",
       "        <span id=\"1003\">Loading BokehJS ...</span>\n",
       "    </div>"
      ],
      "text/plain": [
       "\n",
       "    <div class=\"bk-root\">\n",
       "        <a href=\"https://bokeh.pydata.org\" target=\"_blank\" class=\"bk-logo bk-logo-small bk-logo-notebook\"></a>\n",
       "        <span id=\"1003\">Loading BokehJS ...</span>\n",
       "    </div>"
      ]
     },
     "execution_count": 0,
     "metadata": {},
     "output_type": "execute_result"
    }
   ],
   "source": [
    "import numpy as np\n",
    "from ipywidgets import interact\n",
    "from bokeh.io import push_notebook, show, output_notebook\n",
    "from bokeh.plotting import figure\n",
    "output_notebook()"
   ]
  },
  {
   "cell_type": "code",
   "execution_count": 4,
   "metadata": {},
   "outputs": [],
   "source": [
    "# Initial model parameters\n",
    "gamma = np.pi/6\n",
    "alpha = 1 / np.sqrt(2) \n",
    "beta = 0.1 \n",
    "mu = 0.7 # friction coefficient\n",
    "sig3 = 0; # Confining pressure (MPa)\n",
    "cst = 50; # Kc / sqrt(pi*a)\n",
    "S3 = sig3 / cst\n",
    "D0 = 0.1; # Initial damage parameter"
   ]
  },
  {
   "cell_type": "code",
   "execution_count": 5,
   "metadata": {},
   "outputs": [],
   "source": [
    "def calculateSig1(D0, sig3, mu, cst):\n",
    "    \"\"\"\n",
    "    Calculates the maximum principal stress as a function of the damage parameter.\n",
    "    \n",
    "    Args:\n",
    "        sig3: The value for the minimum principal stress in the 2D approximation (in triaxial testing, \n",
    "            sig2=sig3=radial stress)\n",
    "        D0: The value of the initial damage parameter\n",
    "        mu: The value of the friction coefficient\n",
    "        cst: A constant which is function of the fracture toughness (Kc) and the crack half length (a).\n",
    "    \n",
    "    Returns:\n",
    "        sig1: A numpy array of the maximum principal stress\n",
    "        D: A numpy array of the damage parameter\n",
    "    \n",
    "    \"\"\"\n",
    "    \n",
    "    # Calculate constants as per the Baud et al. (2014) formulation of the Ashby and Sammis model\n",
    "    C1 = ( np.sqrt( 1 + mu**2 ) + mu ) / ( np.sqrt(1 + mu**2) - mu )\n",
    "    C4 = ( np.sqrt(30) * np.cos(gamma) ) / ( np.sqrt( 1 + mu**2) - mu )\n",
    "    \n",
    "    # Damage parameter values\n",
    "    D = np.arange(D0, 1, 0.001); \n",
    "\n",
    "    # Calculate the maximum principal stress\n",
    "    sig1 = (sig3 * (C1+C4*( np.sqrt(D/D0)-1) / \n",
    "                     (1 + np.sqrt(np.pi*D0) * (np.sqrt(D/D0) - 1) / \n",
    "                     (1 - np.sqrt(D)))) + np.sqrt(np.sqrt(D/D0) - 1 + 0.1/np.cos(gamma)) * \n",
    "            C4 * cst / ((1 + np.sqrt(np.pi*D0) * ( np.sqrt(D/D0) - 1)/\n",
    "                         (1 - np.sqrt(D))) * np.sqrt(np.cos(gamma))))\n",
    "    \n",
    "    return sig1, D"
   ]
  },
  {
   "cell_type": "code",
   "execution_count": 6,
   "metadata": {},
   "outputs": [
    {
     "data": {
      "text/html": [
       "\n",
       "\n",
       "\n",
       "\n",
       "\n",
       "\n",
       "  <div class=\"bk-root\" id=\"61435c60-7ad4-4b5b-96a0-4a744db3cbf7\" data-root-id=\"1004\"></div>\n"
      ],
      "text/plain": [
       "\n",
       "\n",
       "\n",
       "\n",
       "\n",
       "\n",
       "  <div class=\"bk-root\" id=\"61435c60-7ad4-4b5b-96a0-4a744db3cbf7\" data-root-id=\"1004\"></div>\n"
      ]
     },
     "execution_count": 0,
     "metadata": {},
     "output_type": "execute_result"
    },
    {
     "data": {
      "text/html": [
       "\n",
       "\n",
       "\n",
       "\n",
       "\n",
       "\n",
       "  <div class=\"bk-root\" id=\"61435c60-7ad4-4b5b-96a0-4a744db3cbf7\" data-root-id=\"1004\"></div>\n"
      ],
      "text/plain": [
       "\n",
       "\n",
       "\n",
       "\n",
       "\n",
       "\n",
       "  <div class=\"bk-root\" id=\"61435c60-7ad4-4b5b-96a0-4a744db3cbf7\" data-root-id=\"1004\"></div>\n"
      ]
     },
     "execution_count": 0,
     "metadata": {},
     "output_type": "execute_result"
    },
    {
     "data": {
      "text/plain": [
       "interactive(children=(IntSlider(value=0, description='sig3', max=200), FloatSlider(value=0.7, description='mu'…"
      ]
     },
     "execution_count": 0,
     "metadata": {},
     "output_type": "execute_result"
    },
    {
     "name": "stdout",
     "output_type": "stream",
     "text": [
      "Peak stress: 251.12 MPa\nOnset of dilatancy: 166.33 MPa\n"
     ]
    },
    {
     "data": {
      "text/plain": [
       "<function __main__.update(sig3=0, mu=0.7, cst=50)>"
      ]
     },
     "execution_count": 6,
     "metadata": {},
     "output_type": "execute_result"
    }
   ],
   "source": [
    "# calculate initial parameters\n",
    "sig1, D = calculateSig1(D0, sig3, mu, cst)\n",
    "\n",
    "# Make the plot and widget update function\n",
    "p = figure(title=\"(Ashby and Sammis (1990) 2D sliding wing crack model\", plot_height=300, plot_width=600,\n",
    "           background_fill_color='#efefef', x_axis_label='Damage parameter [-]', y_axis_label='sig1 [MPa]')\n",
    "r = p.line(D, sig1, color=\"#8888cc\", line_width=1.5, alpha=0.8)\n",
    "\n",
    "def update(sig3=0, mu=0.7, cst=50):\n",
    "    sig1, D = calculateSig1(D0, sig3, mu, cst)\n",
    "    r.data_source.data['y'] = D\n",
    "    r.data_source.data['y'] = sig1\n",
    "    push_notebook()\n",
    "    print('Peak stress: {:.2f} MPa'.format(np.max(sig1)))\n",
    "    print('Onset of dilatancy: {:.2f} MPa'.format(sig1[0]))\n",
    "    \n",
    "show(p, notebook_handle=True)  \n",
    "\n",
    "interact(update, sig3=(0,200), mu=(0.05,2,0.05), cst=(1,200))"
   ]
  },
  {
   "cell_type": "code",
   "execution_count": 8,
   "metadata": {},
   "outputs": [],
   "source": [
    "from bokeh.plotting import figure\n",
    "from bokeh.resources import CDN\n",
    "from bokeh.embed import file_html\n",
    "\n",
    "# export html version of the plot, to be embedded in a website\n",
    "html = file_html(p, CDN, \"my plot\")\n"
   ]
  },
  {
   "cell_type": "code",
   "execution_count": 9,
   "metadata": {},
   "outputs": [
    {
     "name": "stdout",
     "output_type": "stream",
     "text": [
      "\n",
      "\n",
      "\n",
      "\n",
      "<!DOCTYPE html>\n",
      "<html lang=\"en\">\n",
      "  \n",
      "  <head>\n",
      "    \n",
      "      <meta charset=\"utf-8\">\n",
      "      <title>my plot</title>\n",
      "      \n",
      "      \n",
      "        \n",
      "          \n",
      "        <link rel=\"stylesheet\" href=\"https://cdn.pydata.org/bokeh/release/bokeh-1.1.0.min.css\" type=\"text/css\" />\n",
      "        \n",
      "        \n",
      "          \n",
      "        <script type=\"text/javascript\" src=\"https://cdn.pydata.org/bokeh/release/bokeh-1.1.0.min.js\"></script>\n",
      "        <script type=\"text/javascript\">\n",
      "            Bokeh.set_log_level(\"info\");\n",
      "        </script>\n",
      "        \n",
      "      \n",
      "      \n",
      "    \n",
      "  </head>\n",
      "  \n",
      "  \n",
      "  <body>\n",
      "    \n",
      "      \n",
      "        \n",
      "          \n",
      "          \n",
      "            \n",
      "              <div class=\"bk-root\" id=\"281c477a-e0aa-4e50-8bb8-c7de186e219f\" data-root-id=\"1036\"></div>\n",
      "            \n",
      "          \n",
      "        \n",
      "      \n",
      "      \n",
      "        <script type=\"application/json\" id=\"1264\">\n",
      "          {\"3a5ec90b-ae41-4621-8f29-5ff5da59ec5d\":{\"roots\":{\"references\":[{\"attributes\":{},\"id\":\"1048\",\"type\":\"BasicTicker\"},{\"attributes\":{\"overlay\":{\"id\":\"1082\",\"type\":\"BoxAnnotation\"}},\"id\":\"1059\",\"type\":\"BoxZoomTool\"},{\"attributes\":{\"ticker\":{\"id\":\"1048\",\"type\":\"BasicTicker\"}},\"id\":\"1051\",\"type\":\"Grid\"},{\"attributes\":{},\"id\":\"1060\",\"type\":\"SaveTool\"},{\"attributes\":{\"axis_label\":\"sig1 [MPa]\",\"formatter\":{\"id\":\"1078\",\"type\":\"BasicTickFormatter\"},\"ticker\":{\"id\":\"1053\",\"type\":\"BasicTicker\"}},\"id\":\"1052\",\"type\":\"LinearAxis\"},{\"attributes\":{},\"id\":\"1061\",\"type\":\"ResetTool\"},{\"attributes\":{},\"id\":\"1076\",\"type\":\"BasicTickFormatter\"},{\"attributes\":{\"background_fill_color\":{\"value\":\"#efefef\"},\"below\":[{\"id\":\"1047\",\"type\":\"LinearAxis\"}],\"center\":[{\"id\":\"1051\",\"type\":\"Grid\"},{\"id\":\"1056\",\"type\":\"Grid\"}],\"left\":[{\"id\":\"1052\",\"type\":\"LinearAxis\"}],\"plot_height\":300,\"renderers\":[{\"id\":\"1073\",\"type\":\"GlyphRenderer\"}],\"title\":{\"id\":\"1037\",\"type\":\"Title\"},\"toolbar\":{\"id\":\"1063\",\"type\":\"Toolbar\"},\"x_range\":{\"id\":\"1039\",\"type\":\"DataRange1d\"},\"x_scale\":{\"id\":\"1043\",\"type\":\"LinearScale\"},\"y_range\":{\"id\":\"1041\",\"type\":\"DataRange1d\"},\"y_scale\":{\"id\":\"1045\",\"type\":\"LinearScale\"}},\"id\":\"1036\",\"subtype\":\"Figure\",\"type\":\"Plot\"},{\"attributes\":{},\"id\":\"1053\",\"type\":\"BasicTicker\"},{\"attributes\":{\"text\":\"(Ashby and Sammis (1990) 2D sliding wing crack model\"},\"id\":\"1037\",\"type\":\"Title\"},{\"attributes\":{},\"id\":\"1062\",\"type\":\"HelpTool\"},{\"attributes\":{\"callback\":null,\"data\":{\"x\":{\"__ndarray__\":\"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\",\"dtype\":\"float64\",\"shape\":[900]},\"y\":{\"__ndarray__\":\"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\",\"dtype\":\"float64\",\"shape\":[900]}},\"selected\":{\"id\":\"1080\",\"type\":\"Selection\"},\"selection_policy\":{\"id\":\"1081\",\"type\":\"UnionRenderers\"}},\"id\":\"1070\",\"type\":\"ColumnDataSource\"},{\"attributes\":{},\"id\":\"1078\",\"type\":\"BasicTickFormatter\"},{\"attributes\":{\"dimension\":1,\"ticker\":{\"id\":\"1053\",\"type\":\"BasicTicker\"}},\"id\":\"1056\",\"type\":\"Grid\"},{\"attributes\":{\"callback\":null},\"id\":\"1039\",\"type\":\"DataRange1d\"},{\"attributes\":{\"active_drag\":\"auto\",\"active_inspect\":\"auto\",\"active_multi\":null,\"active_scroll\":\"auto\",\"active_tap\":\"auto\",\"tools\":[{\"id\":\"1057\",\"type\":\"PanTool\"},{\"id\":\"1058\",\"type\":\"WheelZoomTool\"},{\"id\":\"1059\",\"type\":\"BoxZoomTool\"},{\"id\":\"1060\",\"type\":\"SaveTool\"},{\"id\":\"1061\",\"type\":\"ResetTool\"},{\"id\":\"1062\",\"type\":\"HelpTool\"}]},\"id\":\"1063\",\"type\":\"Toolbar\"},{\"attributes\":{},\"id\":\"1080\",\"type\":\"Selection\"},{\"attributes\":{\"data_source\":{\"id\":\"1070\",\"type\":\"ColumnDataSource\"},\"glyph\":{\"id\":\"1071\",\"type\":\"Line\"},\"hover_glyph\":null,\"muted_glyph\":null,\"nonselection_glyph\":{\"id\":\"1072\",\"type\":\"Line\"},\"selection_glyph\":null,\"view\":{\"id\":\"1074\",\"type\":\"CDSView\"}},\"id\":\"1073\",\"type\":\"GlyphRenderer\"},{\"attributes\":{\"line_alpha\":0.1,\"line_color\":\"#1f77b4\",\"line_width\":1.5,\"x\":{\"field\":\"x\"},\"y\":{\"field\":\"y\"}},\"id\":\"1072\",\"type\":\"Line\"},{\"attributes\":{\"callback\":null},\"id\":\"1041\",\"type\":\"DataRange1d\"},{\"attributes\":{\"line_alpha\":0.8,\"line_color\":\"#8888cc\",\"line_width\":1.5,\"x\":{\"field\":\"x\"},\"y\":{\"field\":\"y\"}},\"id\":\"1071\",\"type\":\"Line\"},{\"attributes\":{},\"id\":\"1081\",\"type\":\"UnionRenderers\"},{\"attributes\":{},\"id\":\"1043\",\"type\":\"LinearScale\"},{\"attributes\":{\"source\":{\"id\":\"1070\",\"type\":\"ColumnDataSource\"}},\"id\":\"1074\",\"type\":\"CDSView\"},{\"attributes\":{\"bottom_units\":\"screen\",\"fill_alpha\":{\"value\":0.5},\"fill_color\":{\"value\":\"lightgrey\"},\"left_units\":\"screen\",\"level\":\"overlay\",\"line_alpha\":{\"value\":1.0},\"line_color\":{\"value\":\"black\"},\"line_dash\":[4,4],\"line_width\":{\"value\":2},\"render_mode\":\"css\",\"right_units\":\"screen\",\"top_units\":\"screen\"},\"id\":\"1082\",\"type\":\"BoxAnnotation\"},{\"attributes\":{},\"id\":\"1045\",\"type\":\"LinearScale\"},{\"attributes\":{},\"id\":\"1057\",\"type\":\"PanTool\"},{\"attributes\":{\"axis_label\":\"Damage parameter [-]\",\"formatter\":{\"id\":\"1076\",\"type\":\"BasicTickFormatter\"},\"ticker\":{\"id\":\"1048\",\"type\":\"BasicTicker\"}},\"id\":\"1047\",\"type\":\"LinearAxis\"},{\"attributes\":{},\"id\":\"1058\",\"type\":\"WheelZoomTool\"}],\"root_ids\":[\"1036\"]},\"title\":\"Bokeh Application\",\"version\":\"1.1.0\"}}\n",
      "        </script>\n",
      "        <script type=\"text/javascript\">\n",
      "          (function() {\n",
      "            var fn = function() {\n",
      "              Bokeh.safely(function() {\n",
      "                (function(root) {\n",
      "                  function embed_document(root) {\n",
      "                    \n",
      "                  var docs_json = document.getElementById('1264').textContent;\n",
      "                  var render_items = [{\"docid\":\"3a5ec90b-ae41-4621-8f29-5ff5da59ec5d\",\"roots\":{\"1036\":\"281c477a-e0aa-4e50-8bb8-c7de186e219f\"}}];\n",
      "                  root.Bokeh.embed.embed_items(docs_json, render_items);\n",
      "                \n",
      "                  }\n",
      "                  if (root.Bokeh !== undefined) {\n",
      "                    embed_document(root);\n",
      "                  } else {\n",
      "                    var attempts = 0;\n",
      "                    var timer = setInterval(function(root) {\n",
      "                      if (root.Bokeh !== undefined) {\n",
      "                        embed_document(root);\n",
      "                        clearInterval(timer);\n",
      "                      }\n",
      "                      attempts++;\n",
      "                      if (attempts > 100) {\n",
      "                        console.log(\"Bokeh: ERROR: Unable to run BokehJS code because BokehJS library is missing\");\n",
      "                        clearInterval(timer);\n",
      "                      }\n",
      "                    }, 10, root)\n",
      "                  }\n",
      "                })(window);\n",
      "              });\n",
      "            };\n",
      "            if (document.readyState != \"loading\") fn();\n",
      "            else document.addEventListener(\"DOMContentLoaded\", fn);\n",
      "          })();\n",
      "        </script>\n",
      "    \n",
      "  </body>\n",
      "  \n",
      "</html>\n"
     ]
    }
   ],
   "source": [
    "print(html)"
   ]
  },
  {
   "cell_type": "code",
   "execution_count": null,
   "metadata": {},
   "outputs": [],
   "source": []
  }
 ],
 "metadata": {
  "kernelspec": {
   "display_name": "Python 3",
   "language": "python",
   "name": "python3"
  },
  "language_info": {
   "codemirror_mode": {
    "name": "ipython",
    "version": 3
   },
   "file_extension": ".py",
   "mimetype": "text/x-python",
   "name": "python",
   "nbconvert_exporter": "python",
   "pygments_lexer": "ipython3",
   "version": "3.7.3"
  }
 },
 "nbformat": 4,
 "nbformat_minor": 2
}
